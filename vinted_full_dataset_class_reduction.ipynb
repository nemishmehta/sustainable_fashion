{
 "cells": [
  {
   "cell_type": "code",
   "execution_count": 1,
   "id": "5078b697",
   "metadata": {
    "ExecuteTime": {
     "end_time": "2022-05-05T07:21:01.654269Z",
     "start_time": "2022-05-05T07:21:01.645308Z"
    }
   },
   "outputs": [],
   "source": [
    "import os\n",
    "rootdir = './Full/vinted_train'\n",
    "categories = []\n",
    "for count, file in enumerate(os.listdir(rootdir)):\n",
    "    categories.append(file)"
   ]
  },
  {
   "cell_type": "code",
   "execution_count": 2,
   "id": "94641f71",
   "metadata": {
    "ExecuteTime": {
     "end_time": "2022-05-05T07:21:01.670733Z",
     "start_time": "2022-05-05T07:21:01.658735Z"
    }
   },
   "outputs": [
    {
     "name": "stdout",
     "output_type": "stream",
     "text": [
      "514\n"
     ]
    }
   ],
   "source": [
    "print(len(categories))"
   ]
  },
  {
   "cell_type": "code",
   "execution_count": 3,
   "id": "31a7b1a5",
   "metadata": {
    "ExecuteTime": {
     "end_time": "2022-05-05T07:21:01.682416Z",
     "start_time": "2022-05-05T07:21:01.678606Z"
    }
   },
   "outputs": [],
   "source": [
    "# Function to separate low-level categories based on keywords\n",
    "def add_remove_categories(category, keyword):\n",
    "    sub_category = [item for item in category if keyword in item]\n",
    "    update_category = [item for item in category if item not in sub_category]\n",
    "    return sub_category, update_category"
   ]
  },
  {
   "cell_type": "markdown",
   "id": "4be6d45c",
   "metadata": {},
   "source": [
    "### Remove shoes"
   ]
  },
  {
   "cell_type": "code",
   "execution_count": 4,
   "id": "594376b6",
   "metadata": {
    "ExecuteTime": {
     "end_time": "2022-05-05T07:21:01.693581Z",
     "start_time": "2022-05-05T07:21:01.690237Z"
    }
   },
   "outputs": [],
   "source": [
    "shoes, rem_categories = add_remove_categories(categories, \"shoes\")"
   ]
  },
  {
   "cell_type": "code",
   "execution_count": 5,
   "id": "ca53ccb4",
   "metadata": {
    "ExecuteTime": {
     "end_time": "2022-05-05T07:21:01.711167Z",
     "start_time": "2022-05-05T07:21:01.707809Z"
    }
   },
   "outputs": [
    {
     "name": "stdout",
     "output_type": "stream",
     "text": [
      "64\n",
      "450\n"
     ]
    }
   ],
   "source": [
    "print(len(shoes))\n",
    "print(len(rem_categories))"
   ]
  },
  {
   "cell_type": "markdown",
   "id": "4c181dc3",
   "metadata": {
    "ExecuteTime": {
     "end_time": "2022-05-04T13:42:37.613918Z",
     "start_time": "2022-05-04T13:42:37.603724Z"
    }
   },
   "source": [
    "### Remove bags"
   ]
  },
  {
   "cell_type": "code",
   "execution_count": 6,
   "id": "149c4842",
   "metadata": {
    "ExecuteTime": {
     "end_time": "2022-05-05T07:21:01.736356Z",
     "start_time": "2022-05-05T07:21:01.726740Z"
    }
   },
   "outputs": [],
   "source": [
    "bags, rem_categories = add_remove_categories(rem_categories, \"bags\")"
   ]
  },
  {
   "cell_type": "code",
   "execution_count": 7,
   "id": "c8082166",
   "metadata": {
    "ExecuteTime": {
     "end_time": "2022-05-05T07:21:01.751063Z",
     "start_time": "2022-05-05T07:21:01.743127Z"
    }
   },
   "outputs": [
    {
     "name": "stdout",
     "output_type": "stream",
     "text": [
      "30\n",
      "420\n"
     ]
    }
   ],
   "source": [
    "print(len(bags))\n",
    "print(len(rem_categories))"
   ]
  },
  {
   "cell_type": "markdown",
   "id": "4ade6686",
   "metadata": {},
   "source": [
    "### Remove pants"
   ]
  },
  {
   "cell_type": "code",
   "execution_count": 8,
   "id": "5e89c328",
   "metadata": {
    "ExecuteTime": {
     "end_time": "2022-05-05T07:21:01.771590Z",
     "start_time": "2022-05-05T07:21:01.762077Z"
    }
   },
   "outputs": [],
   "source": [
    "pants, rem_categories = add_remove_categories(rem_categories, \"pants\")"
   ]
  },
  {
   "cell_type": "code",
   "execution_count": 9,
   "id": "f4485f21",
   "metadata": {
    "ExecuteTime": {
     "end_time": "2022-05-05T07:21:01.785722Z",
     "start_time": "2022-05-05T07:21:01.781202Z"
    }
   },
   "outputs": [
    {
     "name": "stdout",
     "output_type": "stream",
     "text": [
      "48\n",
      "372\n"
     ]
    }
   ],
   "source": [
    "print(len(pants))\n",
    "print(len(rem_categories))"
   ]
  },
  {
   "cell_type": "markdown",
   "id": "cc68fc7e",
   "metadata": {},
   "source": [
    "### Remove shirts"
   ]
  },
  {
   "cell_type": "code",
   "execution_count": 10,
   "id": "57a8f3f2",
   "metadata": {
    "ExecuteTime": {
     "end_time": "2022-05-05T07:21:01.810234Z",
     "start_time": "2022-05-05T07:21:01.799786Z"
    }
   },
   "outputs": [
    {
     "name": "stdout",
     "output_type": "stream",
     "text": [
      "46\n",
      "326\n"
     ]
    }
   ],
   "source": [
    "shirts, rem_categories = add_remove_categories(rem_categories, \"t_shirts\")\n",
    "print(len(shirts))\n",
    "print(len(rem_categories))"
   ]
  },
  {
   "cell_type": "markdown",
   "id": "aa32652b",
   "metadata": {},
   "source": [
    "### Remove jackets"
   ]
  },
  {
   "cell_type": "code",
   "execution_count": 11,
   "id": "e5e01eb2",
   "metadata": {
    "ExecuteTime": {
     "end_time": "2022-05-05T07:21:01.824732Z",
     "start_time": "2022-05-05T07:21:01.818722Z"
    }
   },
   "outputs": [
    {
     "name": "stdout",
     "output_type": "stream",
     "text": [
      "49\n",
      "277\n"
     ]
    }
   ],
   "source": [
    "jackets, rem_categories = add_remove_categories(rem_categories, \"jackets\")\n",
    "print(len(jackets))\n",
    "print(len(rem_categories))"
   ]
  },
  {
   "cell_type": "markdown",
   "id": "d9df0f07",
   "metadata": {},
   "source": [
    "### Remove jeans"
   ]
  },
  {
   "cell_type": "code",
   "execution_count": 12,
   "id": "3af07d79",
   "metadata": {
    "ExecuteTime": {
     "end_time": "2022-05-05T07:21:01.847106Z",
     "start_time": "2022-05-05T07:21:01.841303Z"
    }
   },
   "outputs": [
    {
     "name": "stdout",
     "output_type": "stream",
     "text": [
      "12\n",
      "265\n"
     ]
    }
   ],
   "source": [
    "jeans, rem_categories = add_remove_categories(rem_categories, \"jeans\")\n",
    "print(len(jeans))\n",
    "print(len(rem_categories))"
   ]
  },
  {
   "cell_type": "markdown",
   "id": "9964b901",
   "metadata": {},
   "source": [
    "### Remove skirts"
   ]
  },
  {
   "cell_type": "code",
   "execution_count": 13,
   "id": "ce8900d8",
   "metadata": {
    "ExecuteTime": {
     "end_time": "2022-05-05T07:21:01.865872Z",
     "start_time": "2022-05-05T07:21:01.859930Z"
    }
   },
   "outputs": [
    {
     "name": "stdout",
     "output_type": "stream",
     "text": [
      "15\n",
      "250\n"
     ]
    }
   ],
   "source": [
    "skirts, rem_categories = add_remove_categories(rem_categories, \"skirts\")\n",
    "print(len(skirts))\n",
    "print(len(rem_categories))"
   ]
  },
  {
   "cell_type": "markdown",
   "id": "7ff5f82c",
   "metadata": {},
   "source": [
    "### Remove blazers"
   ]
  },
  {
   "cell_type": "code",
   "execution_count": 14,
   "id": "28725bd9",
   "metadata": {
    "ExecuteTime": {
     "end_time": "2022-05-05T07:21:01.887981Z",
     "start_time": "2022-05-05T07:21:01.877698Z"
    }
   },
   "outputs": [
    {
     "name": "stdout",
     "output_type": "stream",
     "text": [
      "9\n",
      "241\n"
     ]
    }
   ],
   "source": [
    "blazers, rem_categories = add_remove_categories(rem_categories, \"blazers\")\n",
    "print(len(blazers))\n",
    "print(len(rem_categories))"
   ]
  },
  {
   "cell_type": "markdown",
   "id": "709101fd",
   "metadata": {},
   "source": [
    "### Remove swimwear"
   ]
  },
  {
   "cell_type": "code",
   "execution_count": 15,
   "id": "81a317b1",
   "metadata": {
    "ExecuteTime": {
     "end_time": "2022-05-05T07:21:01.905837Z",
     "start_time": "2022-05-05T07:21:01.895016Z"
    }
   },
   "outputs": [
    {
     "name": "stdout",
     "output_type": "stream",
     "text": [
      "11\n",
      "230\n"
     ]
    }
   ],
   "source": [
    "swimwear, rem_categories = add_remove_categories(rem_categories, \"swimwear\")\n",
    "print(len(swimwear))\n",
    "print(len(rem_categories))"
   ]
  },
  {
   "cell_type": "markdown",
   "id": "ea83e814",
   "metadata": {},
   "source": [
    "### Remove sweater"
   ]
  },
  {
   "cell_type": "code",
   "execution_count": 16,
   "id": "7dffce75",
   "metadata": {
    "ExecuteTime": {
     "end_time": "2022-05-05T07:21:01.921345Z",
     "start_time": "2022-05-05T07:21:01.912920Z"
    }
   },
   "outputs": [
    {
     "name": "stdout",
     "output_type": "stream",
     "text": [
      "39\n",
      "191\n"
     ]
    }
   ],
   "source": [
    "sweater, rem_categories = add_remove_categories(rem_categories, \"sweater\")\n",
    "print(len(sweater))\n",
    "print(len(rem_categories))"
   ]
  },
  {
   "cell_type": "markdown",
   "id": "42d1711e",
   "metadata": {},
   "source": [
    "### Remove hats"
   ]
  },
  {
   "cell_type": "code",
   "execution_count": 17,
   "id": "29d8d746",
   "metadata": {
    "ExecuteTime": {
     "end_time": "2022-05-05T07:21:01.945213Z",
     "start_time": "2022-05-05T07:21:01.932657Z"
    }
   },
   "outputs": [
    {
     "name": "stdout",
     "output_type": "stream",
     "text": [
      "20\n",
      "171\n"
     ]
    }
   ],
   "source": [
    "hats, rem_categories = add_remove_categories(rem_categories, \"hats\")\n",
    "print(len(hats))\n",
    "print(len(rem_categories))"
   ]
  },
  {
   "cell_type": "markdown",
   "id": "5e9cf1eb",
   "metadata": {},
   "source": [
    "### Remove jewelry"
   ]
  },
  {
   "cell_type": "code",
   "execution_count": 18,
   "id": "3379269d",
   "metadata": {
    "ExecuteTime": {
     "end_time": "2022-05-05T07:21:01.970844Z",
     "start_time": "2022-05-05T07:21:01.952511Z"
    }
   },
   "outputs": [
    {
     "name": "stdout",
     "output_type": "stream",
     "text": [
      "17\n",
      "154\n"
     ]
    }
   ],
   "source": [
    "jewelry, rem_categories = add_remove_categories(rem_categories, \"jewelry\")\n",
    "print(len(jewelry))\n",
    "print(len(rem_categories))"
   ]
  },
  {
   "cell_type": "markdown",
   "id": "0f0b2bff",
   "metadata": {},
   "source": [
    "### Remove scarves"
   ]
  },
  {
   "cell_type": "code",
   "execution_count": 19,
   "id": "66173b20",
   "metadata": {
    "ExecuteTime": {
     "end_time": "2022-05-05T07:21:01.991185Z",
     "start_time": "2022-05-05T07:21:01.973636Z"
    },
    "scrolled": true
   },
   "outputs": [
    {
     "name": "stdout",
     "output_type": "stream",
     "text": [
      "17\n",
      "137\n"
     ]
    }
   ],
   "source": [
    "scarves, rem_categories = add_remove_categories(rem_categories, \"scarves\")\n",
    "print(len(scarves))\n",
    "print(len(rem_categories))"
   ]
  },
  {
   "cell_type": "markdown",
   "id": "d5428ad4",
   "metadata": {},
   "source": [
    "### Remove belts"
   ]
  },
  {
   "cell_type": "code",
   "execution_count": 20,
   "id": "5ae8f5aa",
   "metadata": {
    "ExecuteTime": {
     "end_time": "2022-05-05T07:21:02.003633Z",
     "start_time": "2022-05-05T07:21:01.993463Z"
    }
   },
   "outputs": [
    {
     "name": "stdout",
     "output_type": "stream",
     "text": [
      "6\n",
      "131\n"
     ]
    }
   ],
   "source": [
    "belts, rem_categories = add_remove_categories(rem_categories, \"belts\")\n",
    "print(len(belts))\n",
    "print(len(rem_categories))"
   ]
  },
  {
   "cell_type": "markdown",
   "id": "97c9dce0",
   "metadata": {},
   "source": [
    "### Remove gloves"
   ]
  },
  {
   "cell_type": "code",
   "execution_count": 21,
   "id": "bb204d8c",
   "metadata": {
    "ExecuteTime": {
     "end_time": "2022-05-05T07:21:02.025333Z",
     "start_time": "2022-05-05T07:21:02.013897Z"
    }
   },
   "outputs": [
    {
     "name": "stdout",
     "output_type": "stream",
     "text": [
      "7\n",
      "124\n"
     ]
    }
   ],
   "source": [
    "gloves, rem_categories = add_remove_categories(rem_categories, \"gloves\")\n",
    "print(len(gloves))\n",
    "print(len(rem_categories))"
   ]
  },
  {
   "cell_type": "markdown",
   "id": "30ce17f3",
   "metadata": {},
   "source": [
    "### Remove rompers"
   ]
  },
  {
   "cell_type": "code",
   "execution_count": 22,
   "id": "cb3ac739",
   "metadata": {
    "ExecuteTime": {
     "end_time": "2022-05-05T07:21:02.046967Z",
     "start_time": "2022-05-05T07:21:02.042210Z"
    },
    "scrolled": true
   },
   "outputs": [
    {
     "name": "stdout",
     "output_type": "stream",
     "text": [
      "6\n",
      "118\n"
     ]
    }
   ],
   "source": [
    "rompers, rem_categories = add_remove_categories(rem_categories, \"rompers\")\n",
    "print(len(rompers))\n",
    "print(len(rem_categories))"
   ]
  },
  {
   "cell_type": "code",
   "execution_count": null,
   "id": "352d7586",
   "metadata": {},
   "outputs": [],
   "source": []
  }
 ],
 "metadata": {
  "kernelspec": {
   "display_name": "Python 3 (ipykernel)",
   "language": "python",
   "name": "python3"
  },
  "language_info": {
   "codemirror_mode": {
    "name": "ipython",
    "version": 3
   },
   "file_extension": ".py",
   "mimetype": "text/x-python",
   "name": "python",
   "nbconvert_exporter": "python",
   "pygments_lexer": "ipython3",
   "version": "3.8.10"
  },
  "toc": {
   "base_numbering": 1,
   "nav_menu": {},
   "number_sections": true,
   "sideBar": true,
   "skip_h1_title": false,
   "title_cell": "Table of Contents",
   "title_sidebar": "Contents",
   "toc_cell": false,
   "toc_position": {},
   "toc_section_display": true,
   "toc_window_display": false
  },
  "varInspector": {
   "cols": {
    "lenName": 16,
    "lenType": 16,
    "lenVar": 40
   },
   "kernels_config": {
    "python": {
     "delete_cmd_postfix": "",
     "delete_cmd_prefix": "del ",
     "library": "var_list.py",
     "varRefreshCmd": "print(var_dic_list())"
    },
    "r": {
     "delete_cmd_postfix": ") ",
     "delete_cmd_prefix": "rm(",
     "library": "var_list.r",
     "varRefreshCmd": "cat(var_dic_list()) "
    }
   },
   "types_to_exclude": [
    "module",
    "function",
    "builtin_function_or_method",
    "instance",
    "_Feature"
   ],
   "window_display": false
  }
 },
 "nbformat": 4,
 "nbformat_minor": 5
}
