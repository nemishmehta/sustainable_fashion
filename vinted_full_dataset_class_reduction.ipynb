{
 "cells": [
  {
   "cell_type": "code",
   "execution_count": 1,
   "id": "5078b697",
   "metadata": {
    "ExecuteTime": {
     "end_time": "2022-05-05T09:49:27.717085Z",
     "start_time": "2022-05-05T09:49:27.696015Z"
    }
   },
   "outputs": [],
   "source": [
    "import os\n",
    "rootdir = './Full/vinted_train'\n",
    "categories = []\n",
    "for count, file in enumerate(os.listdir(rootdir)):\n",
    "    categories.append(file)"
   ]
  },
  {
   "cell_type": "code",
   "execution_count": 2,
   "id": "94641f71",
   "metadata": {
    "ExecuteTime": {
     "end_time": "2022-05-05T09:49:27.727173Z",
     "start_time": "2022-05-05T09:49:27.718258Z"
    }
   },
   "outputs": [
    {
     "name": "stdout",
     "output_type": "stream",
     "text": [
      "514\n"
     ]
    }
   ],
   "source": [
    "print(len(categories))"
   ]
  },
  {
   "cell_type": "code",
   "execution_count": 3,
   "id": "31a7b1a5",
   "metadata": {
    "ExecuteTime": {
     "end_time": "2022-05-05T09:49:27.737058Z",
     "start_time": "2022-05-05T09:49:27.731457Z"
    }
   },
   "outputs": [],
   "source": [
    "# Function to separate low-level categories based on keywords\n",
    "def add_remove_categories(category, keyword):\n",
    "    sub_category = [item for item in category if keyword in item]\n",
    "    update_category = [item for item in category if item not in sub_category]\n",
    "    return sub_category, update_category"
   ]
  },
  {
   "cell_type": "markdown",
   "id": "4be6d45c",
   "metadata": {},
   "source": [
    "### Remove shoes"
   ]
  },
  {
   "cell_type": "code",
   "execution_count": 4,
   "id": "594376b6",
   "metadata": {
    "ExecuteTime": {
     "end_time": "2022-05-05T09:49:27.750923Z",
     "start_time": "2022-05-05T09:49:27.746983Z"
    }
   },
   "outputs": [],
   "source": [
    "shoes, rem_categories = add_remove_categories(categories, \"shoes\")"
   ]
  },
  {
   "cell_type": "code",
   "execution_count": 5,
   "id": "ca53ccb4",
   "metadata": {
    "ExecuteTime": {
     "end_time": "2022-05-05T09:49:27.769844Z",
     "start_time": "2022-05-05T09:49:27.758180Z"
    }
   },
   "outputs": [
    {
     "name": "stdout",
     "output_type": "stream",
     "text": [
      "64\n",
      "450\n"
     ]
    }
   ],
   "source": [
    "print(len(shoes))\n",
    "print(len(rem_categories))"
   ]
  },
  {
   "cell_type": "markdown",
   "id": "4c181dc3",
   "metadata": {
    "ExecuteTime": {
     "end_time": "2022-05-04T13:42:37.613918Z",
     "start_time": "2022-05-04T13:42:37.603724Z"
    }
   },
   "source": [
    "### Remove bags"
   ]
  },
  {
   "cell_type": "code",
   "execution_count": 6,
   "id": "149c4842",
   "metadata": {
    "ExecuteTime": {
     "end_time": "2022-05-05T09:49:27.774744Z",
     "start_time": "2022-05-05T09:49:27.771413Z"
    }
   },
   "outputs": [],
   "source": [
    "bags, rem_categories = add_remove_categories(rem_categories, \"bags\")"
   ]
  },
  {
   "cell_type": "code",
   "execution_count": 7,
   "id": "c8082166",
   "metadata": {
    "ExecuteTime": {
     "end_time": "2022-05-05T09:49:27.789657Z",
     "start_time": "2022-05-05T09:49:27.783349Z"
    }
   },
   "outputs": [
    {
     "name": "stdout",
     "output_type": "stream",
     "text": [
      "30\n",
      "420\n"
     ]
    }
   ],
   "source": [
    "print(len(bags))\n",
    "print(len(rem_categories))"
   ]
  },
  {
   "cell_type": "markdown",
   "id": "4ade6686",
   "metadata": {},
   "source": [
    "### Remove pants"
   ]
  },
  {
   "cell_type": "code",
   "execution_count": 8,
   "id": "5e89c328",
   "metadata": {
    "ExecuteTime": {
     "end_time": "2022-05-05T09:49:27.801956Z",
     "start_time": "2022-05-05T09:49:27.790880Z"
    }
   },
   "outputs": [],
   "source": [
    "pants, rem_categories = add_remove_categories(rem_categories, \"pants\")"
   ]
  },
  {
   "cell_type": "code",
   "execution_count": 9,
   "id": "f4485f21",
   "metadata": {
    "ExecuteTime": {
     "end_time": "2022-05-05T09:49:27.812548Z",
     "start_time": "2022-05-05T09:49:27.805978Z"
    }
   },
   "outputs": [
    {
     "name": "stdout",
     "output_type": "stream",
     "text": [
      "48\n",
      "372\n"
     ]
    }
   ],
   "source": [
    "print(len(pants))\n",
    "print(len(rem_categories))"
   ]
  },
  {
   "cell_type": "markdown",
   "id": "f74369ef",
   "metadata": {},
   "source": [
    "### Add jeans to pants"
   ]
  },
  {
   "cell_type": "code",
   "execution_count": 10,
   "id": "7d6b73cb",
   "metadata": {
    "ExecuteTime": {
     "end_time": "2022-05-05T09:49:27.824971Z",
     "start_time": "2022-05-05T09:49:27.820306Z"
    }
   },
   "outputs": [
    {
     "name": "stdout",
     "output_type": "stream",
     "text": [
      "12\n",
      "360\n"
     ]
    }
   ],
   "source": [
    "jeans, rem_categories = add_remove_categories(rem_categories, \"jeans\")\n",
    "print(len(jeans))\n",
    "print(len(rem_categories))"
   ]
  },
  {
   "cell_type": "code",
   "execution_count": 11,
   "id": "6d4205bc",
   "metadata": {
    "ExecuteTime": {
     "end_time": "2022-05-05T09:49:27.845193Z",
     "start_time": "2022-05-05T09:49:27.830100Z"
    }
   },
   "outputs": [
    {
     "name": "stdout",
     "output_type": "stream",
     "text": [
      "60\n"
     ]
    }
   ],
   "source": [
    "pants.extend(jeans)\n",
    "print(len(pants))"
   ]
  },
  {
   "cell_type": "markdown",
   "id": "10d9d99d",
   "metadata": {},
   "source": [
    "### Remove t_shirts"
   ]
  },
  {
   "cell_type": "code",
   "execution_count": 12,
   "id": "ec61102f",
   "metadata": {
    "ExecuteTime": {
     "end_time": "2022-05-05T09:49:27.865601Z",
     "start_time": "2022-05-05T09:49:27.859677Z"
    }
   },
   "outputs": [
    {
     "name": "stdout",
     "output_type": "stream",
     "text": [
      "14\n",
      "346\n"
     ]
    }
   ],
   "source": [
    "t_shirts = []\n",
    "for item in rem_categories:\n",
    "    if item.endswith(\"_t_shirts\"):\n",
    "        t_shirts.append(item)\n",
    "        \n",
    "rem_categories = [item for item in rem_categories if item not in t_shirts]\n",
    "\n",
    "print(len(t_shirts))\n",
    "print(len(rem_categories))"
   ]
  },
  {
   "cell_type": "markdown",
   "id": "cc68fc7e",
   "metadata": {},
   "source": [
    "### Remove shirts"
   ]
  },
  {
   "cell_type": "code",
   "execution_count": 13,
   "id": "96c6eda3",
   "metadata": {
    "ExecuteTime": {
     "end_time": "2022-05-05T09:49:27.879082Z",
     "start_time": "2022-05-05T09:49:27.872356Z"
    }
   },
   "outputs": [
    {
     "name": "stdout",
     "output_type": "stream",
     "text": [
      "12\n",
      "334\n"
     ]
    }
   ],
   "source": [
    "shirts = []\n",
    "for item in rem_categories:\n",
    "    if item.endswith(\"_shirts\"):\n",
    "        shirts.append(item)\n",
    "        \n",
    "rem_categories = [item for item in rem_categories if item not in shirts]\n",
    "\n",
    "print(len(shirts))\n",
    "print(len(rem_categories))"
   ]
  },
  {
   "cell_type": "markdown",
   "id": "4914be63",
   "metadata": {},
   "source": [
    "### Remove tops"
   ]
  },
  {
   "cell_type": "code",
   "execution_count": 14,
   "id": "fd4bf0c0",
   "metadata": {
    "ExecuteTime": {
     "end_time": "2022-05-05T09:49:27.898769Z",
     "start_time": "2022-05-05T09:49:27.888093Z"
    }
   },
   "outputs": [
    {
     "name": "stdout",
     "output_type": "stream",
     "text": [
      "21\n",
      "313\n"
     ]
    }
   ],
   "source": [
    "tops, rem_categories = add_remove_categories(rem_categories, \"tops\")\n",
    "print(len(tops))\n",
    "print(len(rem_categories))"
   ]
  },
  {
   "cell_type": "markdown",
   "id": "aa32652b",
   "metadata": {},
   "source": [
    "### Remove jackets"
   ]
  },
  {
   "cell_type": "code",
   "execution_count": 15,
   "id": "e5e01eb2",
   "metadata": {
    "ExecuteTime": {
     "end_time": "2022-05-05T09:49:27.920388Z",
     "start_time": "2022-05-05T09:49:27.900174Z"
    }
   },
   "outputs": [
    {
     "name": "stdout",
     "output_type": "stream",
     "text": [
      "49\n",
      "264\n"
     ]
    }
   ],
   "source": [
    "jackets, rem_categories = add_remove_categories(rem_categories, \"jackets\")\n",
    "print(len(jackets))\n",
    "print(len(rem_categories))"
   ]
  },
  {
   "cell_type": "markdown",
   "id": "9964b901",
   "metadata": {},
   "source": [
    "### Remove skirts"
   ]
  },
  {
   "cell_type": "code",
   "execution_count": 16,
   "id": "ce8900d8",
   "metadata": {
    "ExecuteTime": {
     "end_time": "2022-05-05T09:49:27.927164Z",
     "start_time": "2022-05-05T09:49:27.921455Z"
    }
   },
   "outputs": [
    {
     "name": "stdout",
     "output_type": "stream",
     "text": [
      "15\n",
      "249\n"
     ]
    }
   ],
   "source": [
    "skirts, rem_categories = add_remove_categories(rem_categories, \"skirts\")\n",
    "print(len(skirts))\n",
    "print(len(rem_categories))"
   ]
  },
  {
   "cell_type": "markdown",
   "id": "7ff5f82c",
   "metadata": {},
   "source": [
    "### Remove blazers"
   ]
  },
  {
   "cell_type": "code",
   "execution_count": 17,
   "id": "28725bd9",
   "metadata": {
    "ExecuteTime": {
     "end_time": "2022-05-05T09:49:27.952771Z",
     "start_time": "2022-05-05T09:49:27.930372Z"
    }
   },
   "outputs": [
    {
     "name": "stdout",
     "output_type": "stream",
     "text": [
      "9\n",
      "240\n"
     ]
    }
   ],
   "source": [
    "blazers, rem_categories = add_remove_categories(rem_categories, \"blazers\")\n",
    "print(len(blazers))\n",
    "print(len(rem_categories))"
   ]
  },
  {
   "cell_type": "markdown",
   "id": "709101fd",
   "metadata": {},
   "source": [
    "### Remove swimwear"
   ]
  },
  {
   "cell_type": "code",
   "execution_count": 18,
   "id": "81a317b1",
   "metadata": {
    "ExecuteTime": {
     "end_time": "2022-05-05T09:49:27.963206Z",
     "start_time": "2022-05-05T09:49:27.953841Z"
    }
   },
   "outputs": [
    {
     "name": "stdout",
     "output_type": "stream",
     "text": [
      "11\n",
      "229\n"
     ]
    }
   ],
   "source": [
    "swimwear, rem_categories = add_remove_categories(rem_categories, \"swimwear\")\n",
    "print(len(swimwear))\n",
    "print(len(rem_categories))"
   ]
  },
  {
   "cell_type": "markdown",
   "id": "ea83e814",
   "metadata": {},
   "source": [
    "### Remove sweater"
   ]
  },
  {
   "cell_type": "code",
   "execution_count": 19,
   "id": "7dffce75",
   "metadata": {
    "ExecuteTime": {
     "end_time": "2022-05-05T09:49:27.974793Z",
     "start_time": "2022-05-05T09:49:27.964265Z"
    }
   },
   "outputs": [
    {
     "name": "stdout",
     "output_type": "stream",
     "text": [
      "39\n",
      "190\n"
     ]
    }
   ],
   "source": [
    "sweater, rem_categories = add_remove_categories(rem_categories, \"sweater\")\n",
    "print(len(sweater))\n",
    "print(len(rem_categories))"
   ]
  },
  {
   "cell_type": "markdown",
   "id": "42d1711e",
   "metadata": {},
   "source": [
    "### Remove hats"
   ]
  },
  {
   "cell_type": "code",
   "execution_count": 20,
   "id": "29d8d746",
   "metadata": {
    "ExecuteTime": {
     "end_time": "2022-05-05T09:49:27.995457Z",
     "start_time": "2022-05-05T09:49:27.977716Z"
    }
   },
   "outputs": [
    {
     "name": "stdout",
     "output_type": "stream",
     "text": [
      "20\n",
      "170\n"
     ]
    }
   ],
   "source": [
    "hats, rem_categories = add_remove_categories(rem_categories, \"hats\")\n",
    "print(len(hats))\n",
    "print(len(rem_categories))"
   ]
  },
  {
   "cell_type": "markdown",
   "id": "5e9cf1eb",
   "metadata": {},
   "source": [
    "### Remove jewelry"
   ]
  },
  {
   "cell_type": "code",
   "execution_count": 21,
   "id": "3379269d",
   "metadata": {
    "ExecuteTime": {
     "end_time": "2022-05-05T09:49:28.001651Z",
     "start_time": "2022-05-05T09:49:27.996523Z"
    }
   },
   "outputs": [
    {
     "name": "stdout",
     "output_type": "stream",
     "text": [
      "17\n",
      "153\n"
     ]
    }
   ],
   "source": [
    "jewelry, rem_categories = add_remove_categories(rem_categories, \"jewelry\")\n",
    "print(len(jewelry))\n",
    "print(len(rem_categories))"
   ]
  },
  {
   "cell_type": "markdown",
   "id": "0f0b2bff",
   "metadata": {},
   "source": [
    "### Remove scarves"
   ]
  },
  {
   "cell_type": "code",
   "execution_count": 22,
   "id": "66173b20",
   "metadata": {
    "ExecuteTime": {
     "end_time": "2022-05-05T09:49:28.025888Z",
     "start_time": "2022-05-05T09:49:28.020715Z"
    },
    "scrolled": true
   },
   "outputs": [
    {
     "name": "stdout",
     "output_type": "stream",
     "text": [
      "17\n",
      "136\n"
     ]
    }
   ],
   "source": [
    "scarves, rem_categories = add_remove_categories(rem_categories, \"scarves\")\n",
    "print(len(scarves))\n",
    "print(len(rem_categories))"
   ]
  },
  {
   "cell_type": "markdown",
   "id": "d5428ad4",
   "metadata": {},
   "source": [
    "### Remove belts"
   ]
  },
  {
   "cell_type": "code",
   "execution_count": 23,
   "id": "5ae8f5aa",
   "metadata": {
    "ExecuteTime": {
     "end_time": "2022-05-05T09:49:28.049214Z",
     "start_time": "2022-05-05T09:49:28.032974Z"
    }
   },
   "outputs": [
    {
     "name": "stdout",
     "output_type": "stream",
     "text": [
      "6\n",
      "130\n"
     ]
    }
   ],
   "source": [
    "belts, rem_categories = add_remove_categories(rem_categories, \"belts\")\n",
    "print(len(belts))\n",
    "print(len(rem_categories))"
   ]
  },
  {
   "cell_type": "markdown",
   "id": "97c9dce0",
   "metadata": {},
   "source": [
    "### Remove gloves"
   ]
  },
  {
   "cell_type": "code",
   "execution_count": 24,
   "id": "bb204d8c",
   "metadata": {
    "ExecuteTime": {
     "end_time": "2022-05-05T09:49:28.056962Z",
     "start_time": "2022-05-05T09:49:28.050471Z"
    }
   },
   "outputs": [
    {
     "name": "stdout",
     "output_type": "stream",
     "text": [
      "7\n",
      "123\n"
     ]
    }
   ],
   "source": [
    "gloves, rem_categories = add_remove_categories(rem_categories, \"gloves\")\n",
    "print(len(gloves))\n",
    "print(len(rem_categories))"
   ]
  },
  {
   "cell_type": "markdown",
   "id": "30ce17f3",
   "metadata": {},
   "source": [
    "### Remove rompers"
   ]
  },
  {
   "cell_type": "code",
   "execution_count": 25,
   "id": "cb3ac739",
   "metadata": {
    "ExecuteTime": {
     "end_time": "2022-05-05T09:49:28.070804Z",
     "start_time": "2022-05-05T09:49:28.058284Z"
    },
    "scrolled": true
   },
   "outputs": [
    {
     "name": "stdout",
     "output_type": "stream",
     "text": [
      "6\n",
      "117\n"
     ]
    }
   ],
   "source": [
    "rompers, rem_categories = add_remove_categories(rem_categories, \"rompers\")\n",
    "print(len(rompers))\n",
    "print(len(rem_categories))"
   ]
  },
  {
   "cell_type": "markdown",
   "id": "902c74d6",
   "metadata": {},
   "source": [
    "### Remove glasses"
   ]
  },
  {
   "cell_type": "code",
   "execution_count": 26,
   "id": "bc5b03f6",
   "metadata": {
    "ExecuteTime": {
     "end_time": "2022-05-05T09:49:28.080268Z",
     "start_time": "2022-05-05T09:49:28.074011Z"
    }
   },
   "outputs": [
    {
     "name": "stdout",
     "output_type": "stream",
     "text": [
      "5\n",
      "112\n"
     ]
    }
   ],
   "source": [
    "glasses, rem_categories = add_remove_categories(rem_categories, \"glasses\")\n",
    "print(len(glasses))\n",
    "print(len(rem_categories))"
   ]
  },
  {
   "cell_type": "markdown",
   "id": "1edfd13c",
   "metadata": {},
   "source": [
    "### Remove dresses"
   ]
  },
  {
   "cell_type": "code",
   "execution_count": 27,
   "id": "7531c1f0",
   "metadata": {
    "ExecuteTime": {
     "end_time": "2022-05-05T09:49:28.091788Z",
     "start_time": "2022-05-05T09:49:28.087472Z"
    },
    "scrolled": true
   },
   "outputs": [
    {
     "name": "stdout",
     "output_type": "stream",
     "text": [
      "20\n",
      "92\n"
     ]
    }
   ],
   "source": [
    "dresses, rem_categories = add_remove_categories(rem_categories, \"dresses\")\n",
    "print(len(dresses))\n",
    "print(len(rem_categories))"
   ]
  },
  {
   "cell_type": "markdown",
   "id": "1cbaf171",
   "metadata": {},
   "source": [
    "### Remove shorts"
   ]
  },
  {
   "cell_type": "code",
   "execution_count": 28,
   "id": "63b8ff72",
   "metadata": {
    "ExecuteTime": {
     "end_time": "2022-05-05T09:49:28.105688Z",
     "start_time": "2022-05-05T09:49:28.100720Z"
    },
    "scrolled": true
   },
   "outputs": [
    {
     "name": "stdout",
     "output_type": "stream",
     "text": [
      "7\n",
      "85\n"
     ]
    }
   ],
   "source": [
    "shorts, rem_categories = add_remove_categories(rem_categories, \"shorts\")\n",
    "print(len(shorts))\n",
    "print(len(rem_categories))"
   ]
  },
  {
   "cell_type": "markdown",
   "id": "0f8e8f40",
   "metadata": {},
   "source": [
    "### Remove watches"
   ]
  },
  {
   "cell_type": "code",
   "execution_count": 29,
   "id": "58b01020",
   "metadata": {
    "ExecuteTime": {
     "end_time": "2022-05-05T09:49:28.124348Z",
     "start_time": "2022-05-05T09:49:28.112341Z"
    }
   },
   "outputs": [
    {
     "name": "stdout",
     "output_type": "stream",
     "text": [
      "6\n",
      "79\n"
     ]
    }
   ],
   "source": [
    "watches, rem_categories = add_remove_categories(rem_categories, \"watches\")\n",
    "print(len(watches))\n",
    "print(len(rem_categories))"
   ]
  },
  {
   "cell_type": "code",
   "execution_count": 30,
   "id": "4db4562e",
   "metadata": {
    "ExecuteTime": {
     "end_time": "2022-05-05T09:49:28.133784Z",
     "start_time": "2022-05-05T09:49:28.130089Z"
    }
   },
   "outputs": [],
   "source": [
    "# remove_keywords = [\"underwear\", \"sleepwear\", \"lingerie\", \"activewear\", \"baby_clothing\", \"other\"]\n",
    "# for keyword in remove_keywords:\n",
    "#     for i in rem_categories[:]:    \n",
    "#         if i.find(keyword) != -1:\n",
    "#             rem_categories.remove(i)"
   ]
  },
  {
   "cell_type": "code",
   "execution_count": 31,
   "id": "168e3fa3",
   "metadata": {
    "ExecuteTime": {
     "end_time": "2022-05-05T09:49:28.141894Z",
     "start_time": "2022-05-05T09:49:28.139341Z"
    }
   },
   "outputs": [],
   "source": [
    "# for item in rem_categories:\n",
    "#     print(item)"
   ]
  },
  {
   "cell_type": "markdown",
   "id": "8b55245c",
   "metadata": {},
   "source": [
    "### Create dictionary"
   ]
  },
  {
   "cell_type": "code",
   "execution_count": 32,
   "id": "8c538164",
   "metadata": {
    "ExecuteTime": {
     "end_time": "2022-05-05T09:49:28.173355Z",
     "start_time": "2022-05-05T09:49:28.169684Z"
    }
   },
   "outputs": [],
   "source": [
    "final_classes = {\"shoes\": shoes, \"bags\": bags, \"pants\": pants,\n",
    "                 \"t_shirts\": t_shirts, \"shirts\": shirts, \"tops\": tops, \"jackets\": jackets, \"skirts\": skirts, \"blazers\": blazers, \"swimwear\": swimwear, \"sweater\": sweater, \"hats\": hats, \"jewelry\": jewelry, \"scarves\": scarves, \"belts\": belts, \"gloves\": gloves, \"rompers\": rompers, \"glasses\": glasses, \"dresses\": dresses, \"shorts\": shorts, \"watches\": watches}"
   ]
  },
  {
   "cell_type": "code",
   "execution_count": 33,
   "id": "d33c5401",
   "metadata": {
    "ExecuteTime": {
     "end_time": "2022-05-05T09:49:28.191949Z",
     "start_time": "2022-05-05T09:49:28.181329Z"
    }
   },
   "outputs": [
    {
     "name": "stdout",
     "output_type": "stream",
     "text": [
      "{'shoes': ['women__shoes__sports_shoes__sneakers', 'men__shoes__boots__knee_high_boots', 'kids__boys_clothing__shoes__rubber_boots', 'kids__boys_clothing__shoes__mid_calf_boots', 'men__shoes__other_shoes', 'women__shoes__flats__flats', 'men__shoes__formal_shoes', 'kids__boys_clothing__shoes__special_occasion_shoes', 'men__shoes__sandals', 'women__shoes__oxfords_and_loafers__boat_shoes_and_loafers', 'women__shoes__ankle_boots', 'kids__boys_clothing__shoes__slip_on_shoes', 'kids__girls_clothing__shoes__slippers', 'men__shoes__sports_shoes__other_sports_shoes', 'men__shoes__boots__combat_boots', 'women__shoes__heels__sling_pumps', 'kids__boys_clothing__shoes__sneakers', 'men__shoes__boots__chelsea_boots', 'men__shoes__oxfords_and_loafers__oxfords_and_brogues', 'women__shoes__sandals', 'men__shoes__boots__desert_boots', 'women__shoes__heels__wedges', 'kids__boys_clothing__shoes__slippers', 'kids__boys_clothing__shoes__ankle_boots', 'men__shoes__slippers_and_flip_flops__slippers', 'men__shoes__sports_shoes__indoor_training', 'kids__boys_clothing__shoes__baby_shoes', 'kids__girls_clothing__shoes__mid_calf_boots', 'men__shoes__slippers_and_flip_flops__flip_flops', 'women__shoes__other_shoes', 'men__shoes__oxfords_and_loafers__boat_shoes', 'men__shoes__sports_shoes__outdoors_and_hiking', 'kids__girls_clothing__shoes__flats', 'women__shoes__boots__cowboy_boots', 'women__shoes__sports_shoes__other_sports_shoes', 'kids__girls_clothing__shoes__baby_shoes', 'women__shoes__flats__ballerina_pumps', 'kids__girls_clothing__shoes__slip_on_shoes', 'women__shoes__boots__platform_boots', 'men__shoes__boots__rubber_boots', 'women__shoes__heels__high_heels', 'men__shoes__boots__ankle_boots', 'kids__girls_clothing__shoes__special_occasion_shoes', 'women__shoes__boots__knee_high_boots', 'men__shoes__oxfords_and_loafers__loafers_and_slip_ons', 'men__shoes__sports_shoes__running', 'women__shoes__sports_shoes__indoor_training', 'men__shoes__sneakers', 'women__shoes__slippers', 'kids__boys_clothing__shoes__sandals', 'women__shoes__boots__rubber_boots', 'women__shoes__sports_shoes__running', 'kids__girls_clothing__shoes__other_shoes', 'kids__girls_clothing__shoes__rubber_boots', 'kids__girls_clothing__shoes__ankle_boots', 'kids__girls_clothing__shoes__sandals', 'kids__boys_clothing__shoes__other_shoes', 'women__shoes__sports_shoes__outdoors_and_hiking', 'women__shoes__boots__combat_boots', 'women__shoes__sports_shoes__canvas_shoes', 'kids__girls_clothing__shoes__sneakers', 'women__shoes__flip_flops', 'women__shoes__heels__clogs_and_mules', 'women__shoes__oxfords_and_loafers__oxfords'], 'bags': ['men__accessories__bags_and_backpacks__other', 'women__bags__clutches', 'unisex__accessories__bags_and_backpacks__other', 'kids__boys_clothing__bags_and_backpacks', 'women__bags__backpacks', 'women__bags__purses_and_wallets', 'women__bags__tote_bags', 'men__accessories__bags_and_backpacks__handbags', 'men__accessories__bags_and_backpacks__backpacks', 'women__bags__satchels', 'women__bags__patterned_and_embroidered_bags', 'unisex__accessories__bags_and_backpacks__shoulder_bags', 'men__accessories__bags_and_backpacks__wallets', 'men__accessories__bags_and_backpacks__carryalls_holdalls', 'women__bags__makeup_bags', 'unisex__accessories__bags_and_backpacks__luggage', 'unisex__accessories__bags_and_backpacks__handbags', 'women__bags__carryalls_holdalls', 'men__accessories__bags_and_backpacks__bum_bags', 'kids__girls_clothing__bags_and_backpacks', 'men__accessories__bags_and_backpacks__satchels', 'women__bags__other_bags', 'women__bags__bum_bags', 'women__bags__shoulder_bags', 'women__bags__luggage_and_suitcases', 'men__accessories__bags_and_backpacks__shoulder_bags', 'men__accessories__bags_and_backpacks__luggage', 'women__bags__handbags', 'unisex__accessories__bags_and_backpacks__wallets', 'unisex__accessories__bags_and_backpacks__backpacks'], 'pants': ['women__clothes__pants_and_leggings__tailored_pants', 'men__clothes__pants__other', 'women__clothes__pants_and_leggings__skinny_pants', 'women__clothes__maternity_clothes__maternity_pants', 'women__clothes__shorts_and_cropped_pants__lace_shorts', 'kids__boys_clothing__pants_and_overalls__jeans', 'kids__girls_clothing__underwear_and_socks__pants', 'women__clothes__shorts_and_cropped_pants__knee_length_shorts', 'women__clothes__activewear__pants', 'kids__boys_clothing__pants_and_overalls__wide_leg_pants', 'kids__girls_clothing__pants_and_shorts__skinny_pants', 'men__clothes__pants__joggers', 'women__clothes__pants_and_leggings__harem_pants', 'women__clothes__shorts_and_cropped_pants__cropped_pants', 'women__clothes__shorts_and_cropped_pants__high_waist_shorts', 'men__clothes__activewear__pants', 'kids__boys_clothing__pants_and_overalls__skinny_pants', 'women__clothes__shorts_and_cropped_pants__other_shorts_and_capri_pants', 'men__clothes__socks_and_underwear__pants_and_boxers', 'women__clothes__pants_and_leggings__leggings', 'kids__boys_clothing__pants_and_overalls__harem_pants', 'kids__boys_clothing__pants_and_overalls__leggings', 'kids__girls_clothing__pants_and_shorts__wide_leg_pants', 'kids__girls_clothing__pants_and_shorts__jumpsuits_and_overalls', 'kids__boys_clothing__underwear_and_socks__pants_and_boxers', 'women__clothes__suits_and_blazers__pantsuits', 'women__clothes__pants_and_leggings__leather_pants', 'women__clothes__shorts_and_cropped_pants__low_waist_shorts', 'women__clothes__shorts_and_cropped_pants__jean_shorts', 'kids__boys_clothing__pants_and_overalls__other', 'kids__girls_clothing__pants_and_shorts__shorts_and_cropped_pants', 'kids__girls_clothing__pants_and_shorts__jeans', 'women__clothes__shorts_and_cropped_pants__cargo_shorts', 'men__clothes__pants__chinos', 'women__clothes__pants_and_leggings__straight_leg_pants', 'kids__boys_clothing__pants_and_overalls__shorts_and_cropped_pants', 'men__clothes__pants__tailored_pants', 'kids__boys_clothing__pants_and_overalls__jumpsuits_and_overalls', 'men__clothes__pants__skinny_pants', 'men__clothes__pants__cropped_pants', 'kids__girls_clothing__pants_and_shorts__harem_pants', 'women__clothes__pants_and_leggings__other_trousers', 'men__clothes__pants__wide_leg_pants', 'women__clothes__pants_and_leggings__wide_leg_pants', 'kids__girls_clothing__pants_and_shorts__leggings', 'kids__girls_clothing__pants_and_shorts__other', 'women__clothes__pants_and_leggings__cropped_pants_and_chinos', 'women__clothes__shorts_and_cropped_pants__leather_shorts', 'men__clothes__jeans__straight_fit_jeans', 'women__clothes__jeans__high_waisted_jeans', 'women__clothes__jeans__skinny_jeans', 'women__clothes__jeans__other', 'men__clothes__jeans__ripped_jeans', 'women__clothes__jeans__ripped_jeans', 'women__clothes__jeans__straight_jeans', 'women__clothes__jeans__cropped_jeans', 'women__clothes__jeans__flared_jeans', 'women__clothes__jeans__boyfriend_jeans', 'men__clothes__jeans__slim_fit_jeans', 'men__clothes__jeans__skinny_jeans'], 't_shirts': ['men__clothes__tops_and_t_shirts__t_shirts__long_sleeved_t_shirts', 'men__clothes__tops_and_t_shirts__vests_and_sleeveless_t_shirts', 'kids__girls_clothing__tops_and_t_shirts__other_tops_and_t_shirts', 'women__clothes__activewear__tops_and_t_shirts', 'kids__girls_clothing__tops_and_t_shirts__t_shirts', 'kids__boys_clothing__tops_and_t_shirts__other_tops_and_t_shirts', 'men__clothes__tops_and_t_shirts__t_shirts__other_t_shirts', 'kids__boys_clothing__tops_and_t_shirts__t_shirts', 'women__clothes__tops_and_t_shirts__other_tops_and_t_shirts', 'men__clothes__activewear__tops_and_t_shirts', 'men__clothes__tops_and_t_shirts__t_shirts__plain_t_shirts', 'men__clothes__tops_and_t_shirts__t_shirts__print_t_shirts', 'men__clothes__tops_and_t_shirts__t_shirts__striped_t_shirts', 'women__clothes__tops_and_t_shirts__t_shirts'], 'shirts': ['men__clothes__tops_and_t_shirts__t_shirts__polo_shirts', 'men__clothes__tops_and_t_shirts__shirts__other_shirts', 'women__clothes__tops_and_t_shirts__shirts', 'men__clothes__tops_and_t_shirts__shirts__print_shirts', 'kids__girls_clothing__tops_and_t_shirts__polo_shirts', 'men__clothes__tops_and_t_shirts__shirts__jean_shirts', 'men__clothes__tops_and_t_shirts__shirts__checked_shirts', 'men__clothes__tops_and_t_shirts__shirts__striped_shirts', 'kids__boys_clothing__tops_and_t_shirts__shirts', 'men__clothes__tops_and_t_shirts__shirts__plain_shirts', 'kids__girls_clothing__tops_and_t_shirts__shirts', 'kids__boys_clothing__tops_and_t_shirts__polo_shirts'], 'tops': ['women__clothes__tops_and_t_shirts__turtlenecks', 'women__clothes__tops_and_t_shirts__camis', 'kids__boys_clothing__tops_and_t_shirts__sleeveless_tops', 'women__clothes__tops_and_t_shirts__bodysuits', 'women__clothes__tops_and_t_shirts__blouses', 'kids__girls_clothing__tops_and_t_shirts__tunics', 'women__clothes__tops_and_t_shirts__peplum_tops', 'kids__boys_clothing__tops_and_t_shirts__short_sleeved_tops', 'women__clothes__tops_and_t_shirts__three_quarters_sleeve_tops', 'women__clothes__tops_and_t_shirts__vest_tops', 'women__clothes__tops_and_t_shirts__off_the_shoulder_tops', 'kids__girls_clothing__tops_and_t_shirts__short_sleeved_tops', 'women__clothes__tops_and_t_shirts__crop_tops', 'kids__girls_clothing__tops_and_t_shirts__long_sleeved_tops', 'women__clothes__tops_and_t_shirts__tunics', 'kids__boys_clothing__tops_and_t_shirts__long_sleeved_tops', 'kids__girls_clothing__tops_and_t_shirts__sleeveless_tops', 'women__clothes__tops_and_t_shirts__short_sleeved_tops', 'women__clothes__tops_and_t_shirts__halter_neck_tops', 'women__clothes__tops_and_t_shirts__long_sleeved_tops', 'women__clothes__maternity_clothes__maternity_tops'], 'jackets': ['women__clothes__coats_and_jackets__coats__winter_coats', 'men__clothes__coats_and_jackets__jackets__fleece_jackets', 'women__clothes__coats_and_jackets__coats__trench_coats', 'kids__boys_clothing__coats_and_jackets__other_coats_and_jackets', 'kids__girls_clothing__coats_and_jackets__jackets', 'women__clothes__coats_and_jackets__coats__duster_coats', 'men__clothes__coats_and_jackets__coats__trench_coats', 'women__clothes__coats_and_jackets__coats__parkas', 'women__clothes__coats_and_jackets__jackets__bomber_jackets', 'women__clothes__coats_and_jackets__capes_and_ponchos', 'men__clothes__coats_and_jackets__coats__parkas', 'kids__girls_clothing__coats_and_jackets__other_coats_and_jackets', 'men__clothes__coats_and_jackets__jackets__harrington_jackets', 'men__clothes__coats_and_jackets__jackets__bomber_jackets', 'women__clothes__coats_and_jackets__jackets__denim_jackets', 'women__clothes__coats_and_jackets__jackets__lightweight_jackets', 'men__clothes__coats_and_jackets__coats__raincoats', 'men__clothes__coats_and_jackets__jackets__down_jackets', 'women__clothes__coats_and_jackets__jackets__down_jackets', 'women__clothes__coats_and_jackets__coats__faux_fur_coats', 'women__clothes__coats_and_jackets__jackets__leather_jackets', 'women__clothes__coats_and_jackets__other_coats_and_jackets', 'men__clothes__coats_and_jackets__other_coats_and_jackets', 'kids__girls_clothing__coats_and_jackets__overalls', 'kids__girls_clothing__coats_and_jackets__raincoats', 'men__clothes__coats_and_jackets__coats__peacoats', 'kids__girls_clothing__coats_and_jackets__ponchos', 'women__clothes__coats_and_jackets__jackets__fleece_jackets', 'women__clothes__coats_and_jackets__coats__pea_coats', 'men__clothes__suits_and_blazers__suit_jackets_and_blazers', 'kids__boys_clothing__coats_and_jackets__sleeveless_jackets', 'kids__girls_clothing__coats_and_jackets__sleeveless_jackets', 'kids__boys_clothing__coats_and_jackets__overalls', 'men__clothes__coats_and_jackets__jackets__denim_jackets', 'men__clothes__coats_and_jackets__jackets__leather_jackets', 'women__clothes__coats_and_jackets__coats__raincoats', 'women__clothes__coats_and_jackets__coats__oversized_coats', 'men__clothes__coats_and_jackets__jackets__lightweight_jackets', 'kids__boys_clothing__coats_and_jackets__blazers', 'kids__girls_clothing__coats_and_jackets__coats', 'women__clothes__coats_and_jackets__jackets__padded_jackets', 'men__clothes__coats_and_jackets__jackets__padded_jackets', 'kids__boys_clothing__coats_and_jackets__jackets', 'kids__girls_clothing__coats_and_jackets__blazers', 'kids__boys_clothing__coats_and_jackets__raincoats', 'kids__boys_clothing__coats_and_jackets__coats', 'men__clothes__coats_and_jackets__coats__duffle_coats', 'men__clothes__coats_and_jackets__coats__wool_coats', 'women__clothes__maternity_clothes__maternity_coats_and_jackets'], 'skirts': ['women__clothes__skirts__mini_skirts', 'women__clothes__skirts__a_line_skirts', 'women__clothes__maternity_clothes__maternity_skirts', 'women__clothes__skirts__skater_skirts', 'women__clothes__skirts__slim_fit_skirts', 'women__clothes__skirts__jean_skirts', 'women__clothes__skirts__other_skirts', 'women__clothes__skirts__pleated_skirts', 'women__clothes__skirts__tulip_skirts', 'kids__girls_clothing__skirts', 'women__clothes__skirts__midi_skirts', 'women__clothes__skirts__high_waist_skirts', 'women__clothes__activewear__skirts', 'women__clothes__skirts__pencil_skirts', 'women__clothes__skirts__maxi_skirts'], 'blazers': ['women__clothes__suits_and_blazers__blazers', 'men__clothes__suits_and_blazers__suit_sets', 'women__clothes__suits_and_blazers__suit_separates', 'women__clothes__suits_and_blazers__other_suits_and_blazers', 'men__clothes__suits_and_blazers__suit_trousers', 'women__clothes__suits_and_blazers__skirt_suits', 'men__clothes__suits_and_blazers__other_suits_and_blazers', 'men__clothes__suits_and_blazers__vests', 'men__clothes__suits_and_blazers__wedding_suits'], 'swimwear': ['men__clothes__swimwear', 'women__clothes__swimwear__bikinis_and_tankinis', 'women__clothes__swimwear__cover_ups_and_sarongs', 'women__clothes__swimwear__one_pieces', 'kids__boys_clothing__swimwear__bathrobes', 'kids__girls_clothing__swimwear__bathrobes', 'kids__girls_clothing__swimwear__one_piece_swimsuits', 'kids__boys_clothing__swimwear__swimming_trunks', 'women__clothes__maternity_clothes__maternity_swimwear_and_beachwear', 'women__clothes__swimwear__other_swimwear_and_beachwear', 'kids__girls_clothing__swimwear__bikinis_and_tankinis'], 'sweater': ['men__clothes__jumpers_and_sweaters__zip_through_hoodies', 'kids__boys_clothing__sweaters_and_hoodies__hoodies_and_sweatshirts', 'women__clothes__jumpers_and_sweaters__sweaters__three_quarters_sleeve_sweaters', 'women__clothes__jumpers_and_sweaters__other_jumpers_and_sweaters', 'men__clothes__jumpers_and_sweaters__sweaters', 'kids__boys_clothing__sweaters_and_hoodies__sweater_vests', 'kids__girls_clothing__sweaters_and_hoodies__boleros', 'kids__girls_clothing__sweaters_and_hoodies__v_neck_sweaters', 'women__clothes__jumpers_and_sweaters__sweaters__knitted_sweaters', 'women__clothes__jumpers_and_sweaters__sweaters__other_sweaters', 'men__clothes__jumpers_and_sweaters__thick_knit_sweaters', 'kids__girls_clothing__sweaters_and_hoodies__hoodies_and_sweatshirts', 'kids__girls_clothing__sweaters_and_hoodies__sweaters', 'kids__boys_clothing__sweaters_and_hoodies__other_sweaters_and_hoodies', 'men__clothes__jumpers_and_sweaters__hoodies_and_sweatshirts', 'kids__boys_clothing__sweaters_and_hoodies__zip_up_jumpers', 'women__clothes__jumpers_and_sweaters__hoodies_and_sweatshirts', 'kids__girls_clothing__sweaters_and_hoodies__other_sweaters_and_hoodies', 'kids__boys_clothing__sweaters_and_hoodies__sweaters', 'men__clothes__jumpers_and_sweaters__crew_neck_sweaters', 'kids__girls_clothing__sweaters_and_hoodies__turtleneck_sweaters', 'kids__boys_clothing__sweaters_and_hoodies__turtleneck_sweaters', 'women__clothes__jumpers_and_sweaters__sweaters__v_neck_cardigans', 'men__clothes__jumpers_and_sweaters__sweater_vests', 'men__clothes__jumpers_and_sweaters__other', 'women__clothes__jumpers_and_sweaters__vests', 'men__clothes__jumpers_and_sweaters__cardigans', 'women__clothes__jumpers_and_sweaters__sweaters__turtleneck_sweaters', 'women__clothes__maternity_clothes__maternity_sweaters', 'men__clothes__jumpers_and_sweaters__v_neck_sweaters', 'men__clothes__jumpers_and_sweaters__long_sweaters', 'women__clothes__jumpers_and_sweaters__boleros', 'women__clothes__jumpers_and_sweaters__kimonos', 'kids__boys_clothing__sweaters_and_hoodies__v_neck_sweaters', 'men__clothes__jumpers_and_sweaters__turtleneck_sweaters', 'kids__girls_clothing__sweaters_and_hoodies__sweater_vests', 'kids__girls_clothing__sweaters_and_hoodies__zip_up_jumpers', 'women__clothes__jumpers_and_sweaters__cardigans', 'women__clothes__jumpers_and_sweaters__sweaters__long_sweaters'], 'hats': ['unisex__accessories__hats_and_caps__other', 'women__clothes__activewear__sports_accessories__hats', 'women__accessories__hats_and_caps__headbands', 'kids__girls_clothing__accessories__caps_and_hats', 'men__accessories__hats_and_caps__berets', 'women__accessories__hats_and_caps__warm_hats', 'men__accessories__hats_and_caps__winter_hats', 'unisex__accessories__hats_and_caps__winter_hats', 'unisex__accessories__hats_and_caps__caps', 'men__accessories__hats_and_caps__other', 'women__accessories__hats_and_caps__other', 'unisex__accessories__hats_and_caps__berets', 'kids__boys_clothing__accessories__caps_and_hats', 'men__accessories__hats_and_caps__caps', 'women__accessories__hats_and_caps__caps', 'women__accessories__hats_and_caps__hats', 'men__accessories__hats_and_caps__hats', 'unisex__accessories__hats_and_caps__hats', 'men__clothes__activewear__sports_accessories__hats', 'women__accessories__hats_and_caps__berets'], 'jewelry': ['women__accessories__jewelry__jewelry_sets', 'women__accessories__jewelry__earrings', 'unisex__accessories__jewelry__necklaces_and_pendants', 'men__accessories__jewelry__bracelets', 'women__accessories__jewelry__brooches', 'men__accessories__jewelry__cuff_links', 'women__accessories__jewelry__necklaces_beads_and_pendants', 'women__accessories__jewelry__rings', 'kids__girls_clothing__accessories__jewelry', 'unisex__accessories__jewelry__other', 'women__accessories__jewelry__other_jewelry', 'unisex__accessories__jewelry__bracelets', 'men__accessories__jewelry__other', 'men__accessories__jewelry__rings', 'men__accessories__jewelry__necklaces_and_pendants', 'women__accessories__jewelry__anklets', 'women__accessories__jewelry__bracelets'], 'scarves': ['kids__girls_clothing__accessories__scarves_and_shawls', 'unisex__accessories__scarves_and_shawls__other', 'men__accessories__scarves_and_shawls__head_scarves', 'men__accessories__scarves_and_shawls__knitted_scarves', 'women__clothes__activewear__sports_accessories__scarves', 'men__clothes__activewear__sports_accessories__scarves', 'men__accessories__scarves_and_shawls__other', 'kids__boys_clothing__accessories__scarves_and_shawls', 'men__accessories__scarves_and_shawls__large_scarves_and_shawls', 'women__accessories__scarves_and_shawls__shawls', 'women__accessories__scarves_and_shawls__other', 'women__accessories__scarves_and_shawls__oversized_scarves_and_shawls', 'unisex__accessories__scarves_and_shawls__large_scarves_and_shawls', 'women__accessories__scarves_and_shawls__head_scarves', 'unisex__accessories__scarves_and_shawls__head_scarves', 'unisex__accessories__scarves_and_shawls__knitted_scarves', 'women__accessories__scarves_and_shawls__knit_scarves'], 'belts': ['unisex__accessories__belts', 'kids__girls_clothing__accessories__belts', 'women__clothes__maternity_clothes__maternity_underwear__pregnancy_and_postpartum_belts', 'kids__boys_clothing__accessories__belts', 'women__accessories__belts', 'men__accessories__belts'], 'gloves': ['kids__girls_clothing__accessories__gloves', 'unisex__accessories__gloves', 'men__accessories__gloves', 'men__clothes__activewear__sports_accessories__gloves', 'kids__boys_clothing__accessories__gloves', 'women__clothes__activewear__sports_accessories__gloves', 'women__accessories__gloves'], 'rompers': ['women__clothes__jumpsuits_and_rompers__rompers', 'women__clothes__jumpsuits_and_rompers__other_jumpsuits_and_rompers', 'kids__girls_clothing__baby_clothing__rompers', 'women__clothes__jumpsuits_and_rompers__jumpsuits', 'kids__boys_clothing__baby_clothing__rompers', 'women__clothes__maternity_clothes__maternity_jumpsuits_and_rompers'], 'glasses': ['men__clothes__activewear__sports_accessories__glasses', 'women__accessories__sunglasses', 'men__accessories__sunglasses', 'women__clothes__activewear__sports_accessories__glasses', 'unisex__accessories__sunglasses'], 'dresses': ['women__clothes__dresses__other_dresses', 'women__clothes__dresses__summer_dresses', 'women__clothes__dresses__mini_dresses', 'women__clothes__dresses__midi_dresses', 'women__clothes__dresses__special_occasion_dresses__party_and_cocktail', 'women__clothes__dresses__special_occasion_dresses__backless_dresses', 'women__clothes__dresses__long_dresses', 'women__clothes__dresses__winter_dresses', 'women__clothes__dresses__strapless_dresses', 'women__clothes__dresses__formal_work_dresses', 'women__clothes__dresses__special_occasion_dresses__wedding_dresses', 'women__clothes__dresses__special_occasion_dresses__evening_dresses', 'women__clothes__dresses__little_black_dresses', 'women__clothes__dresses__special_occasion_dresses__prom_dresses', 'women__clothes__dresses__jean_dresses', 'women__clothes__maternity_clothes__maternity_dresses', 'women__clothes__dresses__casual_dresses', 'kids__girls_clothing__dresses__short_dresses', 'kids__girls_clothing__dresses__long_dresses', 'women__clothes__activewear__dresses'], 'shorts': ['men__clothes__shorts__cargo_shorts', 'men__clothes__shorts__chino_shorts', 'men__clothes__shorts__jean_shorts', 'men__clothes__shorts__other_shorts', 'women__clothes__activewear__shorts', 'women__clothes__maternity_clothes__maternity_shorts', 'men__clothes__activewear__shorts'], 'watches': ['men__clothes__activewear__sports_accessories__watches_and_wristbands', 'unisex__clothes__activewear__sports_accessories__watches_and_wristbands', 'women__clothes__activewear__sports_accessories__watches_and_wristbands', 'men__accessories__watches', 'women__accessories__watches', 'unisex__accessories__watches']}\n"
     ]
    }
   ],
   "source": [
    "print(final_classes)"
   ]
  },
  {
   "cell_type": "code",
   "execution_count": 34,
   "id": "ac8f8b8b",
   "metadata": {
    "ExecuteTime": {
     "end_time": "2022-05-05T09:51:10.032302Z",
     "start_time": "2022-05-05T09:51:10.023793Z"
    }
   },
   "outputs": [],
   "source": [
    "import json\n",
    "\n",
    "with open(\"final_classes.json\", \"w\") as outfile:\n",
    "    json.dump(final_classes, outfile)"
   ]
  },
  {
   "cell_type": "code",
   "execution_count": null,
   "id": "96f4a24e",
   "metadata": {},
   "outputs": [],
   "source": []
  }
 ],
 "metadata": {
  "kernelspec": {
   "display_name": "Python 3 (ipykernel)",
   "language": "python",
   "name": "python3"
  },
  "language_info": {
   "codemirror_mode": {
    "name": "ipython",
    "version": 3
   },
   "file_extension": ".py",
   "mimetype": "text/x-python",
   "name": "python",
   "nbconvert_exporter": "python",
   "pygments_lexer": "ipython3",
   "version": "3.8.10"
  },
  "toc": {
   "base_numbering": 1,
   "nav_menu": {},
   "number_sections": true,
   "sideBar": true,
   "skip_h1_title": false,
   "title_cell": "Table of Contents",
   "title_sidebar": "Contents",
   "toc_cell": false,
   "toc_position": {},
   "toc_section_display": true,
   "toc_window_display": true
  },
  "varInspector": {
   "cols": {
    "lenName": 16,
    "lenType": 16,
    "lenVar": 40
   },
   "kernels_config": {
    "python": {
     "delete_cmd_postfix": "",
     "delete_cmd_prefix": "del ",
     "library": "var_list.py",
     "varRefreshCmd": "print(var_dic_list())"
    },
    "r": {
     "delete_cmd_postfix": ") ",
     "delete_cmd_prefix": "rm(",
     "library": "var_list.r",
     "varRefreshCmd": "cat(var_dic_list()) "
    }
   },
   "types_to_exclude": [
    "module",
    "function",
    "builtin_function_or_method",
    "instance",
    "_Feature"
   ],
   "window_display": false
  }
 },
 "nbformat": 4,
 "nbformat_minor": 5
}
