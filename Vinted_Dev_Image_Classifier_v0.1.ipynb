{
 "cells": [
  {
   "cell_type": "code",
   "execution_count": 1,
   "id": "f3a726dc",
   "metadata": {
    "ExecuteTime": {
     "end_time": "2022-05-05T13:04:56.352355Z",
     "start_time": "2022-05-05T13:04:51.348230Z"
    }
   },
   "outputs": [],
   "source": [
    "import torch\n",
    "from torchmetrics import F1Score\n",
    "import flash\n",
    "from flash.image import ImageClassificationData, ImageClassifier"
   ]
  },
  {
   "cell_type": "code",
   "execution_count": 2,
   "id": "4057ddeb",
   "metadata": {
    "ExecuteTime": {
     "end_time": "2022-05-05T13:04:56.440238Z",
     "start_time": "2022-05-05T13:04:56.414427Z"
    }
   },
   "outputs": [
    {
     "name": "stdout",
     "output_type": "stream",
     "text": [
      "{'women__clothes__coats_and_jackets__coats__duster_coats': 0, 'women__clothes__coats_and_jackets__coats__parkas': 1, 'women__clothes__coats_and_jackets__coats__oversized_coats': 2}\n"
     ]
    }
   ],
   "source": [
    "import os\n",
    "rootdir = './Dev/vinted_dev_train'\n",
    "class_dict = {}\n",
    "for count, file in enumerate(os.listdir(rootdir)):\n",
    "    class_dict[file] = count\n",
    "    \n",
    "print(class_dict)"
   ]
  },
  {
   "cell_type": "code",
   "execution_count": 37,
   "id": "d93f12a5",
   "metadata": {
    "ExecuteTime": {
     "end_time": "2022-05-03T09:04:14.747234Z",
     "start_time": "2022-05-03T09:04:14.734816Z"
    }
   },
   "outputs": [
    {
     "name": "stdout",
     "output_type": "stream",
     "text": [
      "(train_folder: Union[str, NoneType] = None, val_folder: Union[str, NoneType] = None, test_folder: Union[str, NoneType] = None, predict_folder: Union[str, NoneType] = None, train_transform: ~INPUT_TRANSFORM_TYPE = <class 'flash.image.classification.input_transform.ImageClassificationInputTransform'>, val_transform: ~INPUT_TRANSFORM_TYPE = <class 'flash.image.classification.input_transform.ImageClassificationInputTransform'>, test_transform: ~INPUT_TRANSFORM_TYPE = <class 'flash.image.classification.input_transform.ImageClassificationInputTransform'>, predict_transform: ~INPUT_TRANSFORM_TYPE = <class 'flash.image.classification.input_transform.ImageClassificationInputTransform'>, target_formatter: Union[flash.core.data.utilities.classification.TargetFormatter, NoneType] = None, input_cls: Type[flash.core.data.io.input.Input] = <class 'flash.image.classification.input.ImageClassificationFolderInput'>, transform_kwargs: Union[Dict, NoneType] = None, **data_module_kwargs: Any) -> 'ImageClassificationData'\n"
     ]
    }
   ],
   "source": [
    "import inspect\n",
    "\n",
    "print(inspect.signature(ImageClassificationData.from_folders))"
   ]
  },
  {
   "cell_type": "code",
   "execution_count": 3,
   "id": "e1dc5d94",
   "metadata": {
    "ExecuteTime": {
     "end_time": "2022-05-05T13:05:01.631889Z",
     "start_time": "2022-05-05T13:05:01.560727Z"
    }
   },
   "outputs": [],
   "source": [
    "datamodule = ImageClassificationData.from_folders(\n",
    "    train_folder=\"Dev/vinted_dev_train/\",\n",
    "    val_folder=\"Dev/vinted_dev_val/\",\n",
    "    batch_size=4,\n",
    "    transform_kwargs={\"image_size\": (100, 100), \"mean\": (0.485, 0.456, 0.406), \"std\": (0.229, 0.224, 0.225)},\n",
    ")"
   ]
  },
  {
   "cell_type": "code",
   "execution_count": 5,
   "id": "2b9a50fa",
   "metadata": {
    "ExecuteTime": {
     "end_time": "2022-05-05T13:05:20.049343Z",
     "start_time": "2022-05-05T13:05:19.739527Z"
    }
   },
   "outputs": [
    {
     "name": "stderr",
     "output_type": "stream",
     "text": [
      "/home/nemish/.local/lib/python3.8/site-packages/pytorch_lightning/utilities/parsing.py:261: UserWarning: Attribute 'metrics' is an instance of `nn.Module` and is already saved during checkpointing. It is recommended to ignore them using `self.save_hyperparameters(ignore=['metrics'])`.\n",
      "  rank_zero_warn(\n",
      "Using 'mobilenetv3_small_100' provided by rwightman/pytorch-image-models (https://github.com/rwightman/pytorch-image-models).\n",
      "No pretrained weights exist for this model. Using random initialization.\n"
     ]
    }
   ],
   "source": [
    "# 2. Build the task\n",
    "f1 = F1Score(num_classes=3)\n",
    "model = ImageClassifier(backbone=\"mobilenetv3_small_100\", labels=datamodule.labels, metrics=f1)"
   ]
  },
  {
   "cell_type": "code",
   "execution_count": 6,
   "id": "e8ba6e95",
   "metadata": {
    "ExecuteTime": {
     "end_time": "2022-05-05T13:06:52.948973Z",
     "start_time": "2022-05-05T13:05:29.553980Z"
    }
   },
   "outputs": [
    {
     "name": "stderr",
     "output_type": "stream",
     "text": [
      "GPU available: False, used: False\n",
      "TPU available: False, using: 0 TPU cores\n",
      "IPU available: False, using: 0 IPUs\n",
      "HPU available: False, using: 0 HPUs\n",
      "\n",
      "  | Name          | Type           | Params\n",
      "-------------------------------------------------\n",
      "0 | train_metrics | ModuleDict     | 0     \n",
      "1 | val_metrics   | ModuleDict     | 0     \n",
      "2 | test_metrics  | ModuleDict     | 0     \n",
      "3 | adapter       | DefaultAdapter | 1.5 M \n",
      "-------------------------------------------------\n",
      "15.2 K    Trainable params\n",
      "1.5 M     Non-trainable params\n",
      "1.5 M     Total params\n",
      "6.084     Total estimated model params size (MB)\n"
     ]
    },
    {
     "data": {
      "application/vnd.jupyter.widget-view+json": {
       "model_id": "",
       "version_major": 2,
       "version_minor": 0
      },
      "text/plain": [
       "Sanity Checking: 0it [00:00, ?it/s]"
      ]
     },
     "metadata": {},
     "output_type": "display_data"
    },
    {
     "name": "stderr",
     "output_type": "stream",
     "text": [
      "[W NNPACK.cpp:51] Could not initialize NNPACK! Reason: Unsupported hardware.\n"
     ]
    },
    {
     "data": {
      "application/vnd.jupyter.widget-view+json": {
       "model_id": "319ace4a850e404aafe76b3391b1c873",
       "version_major": 2,
       "version_minor": 0
      },
      "text/plain": [
       "Training: 0it [00:00, ?it/s]"
      ]
     },
     "metadata": {},
     "output_type": "display_data"
    },
    {
     "data": {
      "application/vnd.jupyter.widget-view+json": {
       "model_id": "",
       "version_major": 2,
       "version_minor": 0
      },
      "text/plain": [
       "Validation: 0it [00:00, ?it/s]"
      ]
     },
     "metadata": {},
     "output_type": "display_data"
    },
    {
     "data": {
      "application/vnd.jupyter.widget-view+json": {
       "model_id": "",
       "version_major": 2,
       "version_minor": 0
      },
      "text/plain": [
       "Validation: 0it [00:00, ?it/s]"
      ]
     },
     "metadata": {},
     "output_type": "display_data"
    },
    {
     "data": {
      "application/vnd.jupyter.widget-view+json": {
       "model_id": "",
       "version_major": 2,
       "version_minor": 0
      },
      "text/plain": [
       "Validation: 0it [00:00, ?it/s]"
      ]
     },
     "metadata": {},
     "output_type": "display_data"
    }
   ],
   "source": [
    "# 3. Create the trainer and finetune the model\n",
    "\n",
    "trainer = flash.Trainer(max_epochs=3, gpus=torch.cuda.device_count())\n",
    "trainer.finetune(model, datamodule=datamodule, strategy=\"freeze\")"
   ]
  },
  {
   "cell_type": "code",
   "execution_count": 12,
   "id": "57d754e5",
   "metadata": {
    "ExecuteTime": {
     "end_time": "2022-05-03T12:37:43.271625Z",
     "start_time": "2022-05-03T12:37:43.260764Z"
    }
   },
   "outputs": [],
   "source": [
    "#datamodule = ImageClassificationData.from_folders(predict_folder=\"Dev/vinted_dev_val/women__clothes__coats_and_jackets__coats__parkas\", batch_size=4)"
   ]
  },
  {
   "cell_type": "code",
   "execution_count": 7,
   "id": "c947aea3",
   "metadata": {
    "ExecuteTime": {
     "end_time": "2022-05-05T13:06:57.048217Z",
     "start_time": "2022-05-05T13:06:57.036857Z"
    }
   },
   "outputs": [],
   "source": [
    "# 4. Predict what's on a few images!\n",
    "predict_module = ImageClassificationData.from_files(\n",
    "    predict_files=[\n",
    "        \"Dev/vinted_dev_val/women__clothes__coats_and_jackets__coats__oversized_coats/1704261785.jpeg\",\n",
    "        \"Dev/vinted_dev_val/women__clothes__coats_and_jackets__coats__oversized_coats/1778451667.jpeg\",\n",
    "        \"Dev/vinted_dev_val/women__clothes__coats_and_jackets__coats__parkas/1657095323.jpeg\",\n",
    "    ],\n",
    "    batch_size=4,\n",
    ")\n"
   ]
  },
  {
   "cell_type": "code",
   "execution_count": 69,
   "id": "5c3a08f1",
   "metadata": {
    "ExecuteTime": {
     "end_time": "2022-05-03T09:52:28.299611Z",
     "start_time": "2022-05-03T09:52:28.289938Z"
    }
   },
   "outputs": [
    {
     "name": "stdout",
     "output_type": "stream",
     "text": [
      "['women__clothes__coats_and_jackets__coats__duster_coats', 'women__clothes__coats_and_jackets__coats__oversized_coats', 'women__clothes__coats_and_jackets__coats__parkas']\n"
     ]
    }
   ],
   "source": [
    "print(model.labels)"
   ]
  },
  {
   "cell_type": "code",
   "execution_count": 8,
   "id": "c6f9d648",
   "metadata": {
    "ExecuteTime": {
     "end_time": "2022-05-05T13:07:04.350018Z",
     "start_time": "2022-05-05T13:07:04.002245Z"
    }
   },
   "outputs": [
    {
     "data": {
      "application/vnd.jupyter.widget-view+json": {
       "model_id": "6718be34cd9e4f7cb51282af300bb3ff",
       "version_major": 2,
       "version_minor": 0
      },
      "text/plain": [
       "Predicting: 179it [00:00, ?it/s]"
      ]
     },
     "metadata": {},
     "output_type": "display_data"
    },
    {
     "name": "stdout",
     "output_type": "stream",
     "text": [
      "[['women__clothes__coats_and_jackets__coats__duster_coats', 'women__clothes__coats_and_jackets__coats__oversized_coats', 'women__clothes__coats_and_jackets__coats__duster_coats']]\n"
     ]
    }
   ],
   "source": [
    "predictions = trainer.predict(model, datamodule=predict_module, output=\"labels\")\n",
    "print(predictions)"
   ]
  },
  {
   "cell_type": "markdown",
   "id": "8645741b",
   "metadata": {},
   "source": [
    "### Sklearn Classification Report"
   ]
  },
  {
   "cell_type": "code",
   "execution_count": 9,
   "id": "4ae934ea",
   "metadata": {
    "ExecuteTime": {
     "end_time": "2022-05-03T12:06:04.273660Z",
     "start_time": "2022-05-03T12:06:03.801261Z"
    }
   },
   "outputs": [
    {
     "name": "stdout",
     "output_type": "stream",
     "text": [
      "================================================\n",
      "                                                           precision    recall  f1-score   support\n",
      "\n",
      "   women__clothes__coats_and_jackets__coats__duster_coats       0.00      0.00      0.00         0\n",
      "women__clothes__coats_and_jackets__coats__oversized_coats       0.67      1.00      0.80         2\n",
      "         women__clothes__coats_and_jackets__coats__parkas       0.00      0.00      0.00         1\n",
      "\n",
      "                                                micro avg       0.67      0.67      0.67         3\n",
      "                                                macro avg       0.22      0.33      0.27         3\n",
      "                                             weighted avg       0.44      0.67      0.53         3\n",
      "\n"
     ]
    }
   ],
   "source": [
    "from sklearn.metrics import classification_report\n",
    "\n",
    "# =============================================================================\n",
    "y_true = [\n",
    "    \"women__clothes__coats_and_jackets__coats__oversized_coats\",\n",
    "    \"women__clothes__coats_and_jackets__coats__oversized_coats\",\n",
    "    \"women__clothes__coats_and_jackets__coats__parkas\",\n",
    "]\n",
    "#module_labels = model.labels\n",
    "#print(module_labels)\n",
    "\n",
    "y_pred = np.array(predictions[0])\n",
    "print(\"================================================\")\n",
    "print(\n",
    "    classification_report(\n",
    "        y_true,\n",
    "        y_pred,\n",
    "        labels=datamodule.labels,\n",
    "        zero_division=0,  # turn off warnings\n",
    "    )\n",
    ")\n"
   ]
  },
  {
   "cell_type": "markdown",
   "id": "ce75420c",
   "metadata": {},
   "source": [
    "### Torch metrics F1 Score"
   ]
  },
  {
   "cell_type": "code",
   "execution_count": 10,
   "id": "38679528",
   "metadata": {
    "ExecuteTime": {
     "end_time": "2022-05-03T12:06:07.405233Z",
     "start_time": "2022-05-03T12:06:07.377131Z"
    }
   },
   "outputs": [
    {
     "name": "stdout",
     "output_type": "stream",
     "text": [
      "[2, 2, 2]\n"
     ]
    }
   ],
   "source": [
    "predictions_trans = []\n",
    "predictions_trans = [class_dict[x] for x in predictions[0] if x in class_dict.keys()]\n",
    "\n",
    "print(predictions_trans)"
   ]
  },
  {
   "cell_type": "code",
   "execution_count": 11,
   "id": "b732e139",
   "metadata": {
    "ExecuteTime": {
     "end_time": "2022-05-03T12:06:20.768958Z",
     "start_time": "2022-05-03T12:06:20.712449Z"
    }
   },
   "outputs": [
    {
     "data": {
      "text/plain": [
       "tensor(0.2500)"
      ]
     },
     "execution_count": 11,
     "metadata": {},
     "output_type": "execute_result"
    }
   ],
   "source": [
    "target = torch.tensor([1, 1, 2])\n",
    "preds = torch.tensor(predictions_trans)\n",
    "f1 = F1Score(num_classes=3, average='macro')\n",
    "f1(preds, target)"
   ]
  },
  {
   "cell_type": "code",
   "execution_count": 36,
   "id": "aa68553c",
   "metadata": {
    "ExecuteTime": {
     "end_time": "2022-05-03T09:02:09.565118Z",
     "start_time": "2022-05-03T09:02:09.549654Z"
    }
   },
   "outputs": [
    {
     "data": {
      "text/plain": [
       "['__annotations__',\n",
       " '__class__',\n",
       " '__delattr__',\n",
       " '__dict__',\n",
       " '__dir__',\n",
       " '__doc__',\n",
       " '__eq__',\n",
       " '__format__',\n",
       " '__ge__',\n",
       " '__getattribute__',\n",
       " '__gt__',\n",
       " '__hash__',\n",
       " '__init__',\n",
       " '__init_subclass__',\n",
       " '__jit_unused_properties__',\n",
       " '__le__',\n",
       " '__lt__',\n",
       " '__module__',\n",
       " '__ne__',\n",
       " '__new__',\n",
       " '__reduce__',\n",
       " '__reduce_ex__',\n",
       " '__repr__',\n",
       " '__setattr__',\n",
       " '__sizeof__',\n",
       " '__str__',\n",
       " '__subclasshook__',\n",
       " '__weakref__',\n",
       " '_get_property',\n",
       " '_load_model_on_after_batch_transfer_fns',\n",
       " '_predict_dataloader',\n",
       " '_reset_iterator',\n",
       " '_resolve_dataloader_collate_fn',\n",
       " '_resolve_on_after_batch_transfer_fn',\n",
       " '_set_hparams',\n",
       " '_show_batch',\n",
       " '_split_train_val',\n",
       " '_test_dataloader',\n",
       " '_to_hparams_dict',\n",
       " '_train_dataloader',\n",
       " '_val_dataloader',\n",
       " 'add_argparse_args',\n",
       " 'configure_data_fetcher',\n",
       " 'data_fetcher',\n",
       " 'dims',\n",
       " 'from_argparse_args',\n",
       " 'from_csv',\n",
       " 'from_data_frame',\n",
       " 'from_datasets',\n",
       " 'from_fiftyone',\n",
       " 'from_files',\n",
       " 'from_folders',\n",
       " 'from_labelstudio',\n",
       " 'from_numpy',\n",
       " 'from_tensors',\n",
       " 'get_init_arguments_and_types',\n",
       " 'hparams',\n",
       " 'hparams_initial',\n",
       " 'input_transform_cls',\n",
       " 'input_transforms_registry',\n",
       " 'inputs',\n",
       " 'labels',\n",
       " 'load_state_dict',\n",
       " 'multi_label',\n",
       " 'name',\n",
       " 'num_classes',\n",
       " 'on_after_batch_transfer',\n",
       " 'on_before_batch_transfer',\n",
       " 'on_load_checkpoint',\n",
       " 'on_predict_dataloader',\n",
       " 'on_save_checkpoint',\n",
       " 'on_test_dataloader',\n",
       " 'on_train_dataloader',\n",
       " 'on_val_dataloader',\n",
       " 'predict_dataloader',\n",
       " 'predict_dataset',\n",
       " 'prepare_data',\n",
       " 'save_hyperparameters',\n",
       " 'set_block_viz_window',\n",
       " 'setup',\n",
       " 'show_predict_batch',\n",
       " 'show_test_batch',\n",
       " 'show_train_batch',\n",
       " 'show_val_batch',\n",
       " 'size',\n",
       " 'state_dict',\n",
       " 'teardown',\n",
       " 'test_dataloader',\n",
       " 'test_dataset',\n",
       " 'test_transforms',\n",
       " 'train_dataloader',\n",
       " 'train_dataset',\n",
       " 'train_transforms',\n",
       " 'transfer_batch_to_device',\n",
       " 'val_dataloader',\n",
       " 'val_dataset',\n",
       " 'val_transforms',\n",
       " 'viz']"
      ]
     },
     "execution_count": 36,
     "metadata": {},
     "output_type": "execute_result"
    }
   ],
   "source": [
    "dir(ImageClassificationData)\n"
   ]
  },
  {
   "cell_type": "code",
   "execution_count": 84,
   "id": "d6a2a21f",
   "metadata": {
    "ExecuteTime": {
     "end_time": "2022-05-03T10:29:29.170272Z",
     "start_time": "2022-05-03T10:29:29.164052Z"
    }
   },
   "outputs": [
    {
     "name": "stdout",
     "output_type": "stream",
     "text": [
      "(y_true, y_pred, *, labels=None, target_names=None, sample_weight=None, digits=2, output_dict=False, zero_division='warn')\n"
     ]
    }
   ],
   "source": [
    "print(inspect.signature(classification_report))"
   ]
  },
  {
   "cell_type": "code",
   "execution_count": null,
   "id": "e0bde446",
   "metadata": {},
   "outputs": [],
   "source": []
  }
 ],
 "metadata": {
  "kernelspec": {
   "display_name": "Python 3 (ipykernel)",
   "language": "python",
   "name": "python3"
  },
  "language_info": {
   "codemirror_mode": {
    "name": "ipython",
    "version": 3
   },
   "file_extension": ".py",
   "mimetype": "text/x-python",
   "name": "python",
   "nbconvert_exporter": "python",
   "pygments_lexer": "ipython3",
   "version": "3.8.10"
  },
  "toc": {
   "base_numbering": 1,
   "nav_menu": {},
   "number_sections": true,
   "sideBar": true,
   "skip_h1_title": false,
   "title_cell": "Table of Contents",
   "title_sidebar": "Contents",
   "toc_cell": false,
   "toc_position": {},
   "toc_section_display": true,
   "toc_window_display": false
  },
  "varInspector": {
   "cols": {
    "lenName": 16,
    "lenType": 16,
    "lenVar": 40
   },
   "kernels_config": {
    "python": {
     "delete_cmd_postfix": "",
     "delete_cmd_prefix": "del ",
     "library": "var_list.py",
     "varRefreshCmd": "print(var_dic_list())"
    },
    "r": {
     "delete_cmd_postfix": ") ",
     "delete_cmd_prefix": "rm(",
     "library": "var_list.r",
     "varRefreshCmd": "cat(var_dic_list()) "
    }
   },
   "types_to_exclude": [
    "module",
    "function",
    "builtin_function_or_method",
    "instance",
    "_Feature"
   ],
   "window_display": false
  }
 },
 "nbformat": 4,
 "nbformat_minor": 5
}
